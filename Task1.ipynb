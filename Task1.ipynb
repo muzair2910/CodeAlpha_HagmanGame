{
 "cells": [
  {
   "cell_type": "code",
   "execution_count": 1,
   "id": "b8c8d31e-263b-4ef5-9253-d95e55807834",
   "metadata": {},
   "outputs": [
    {
     "name": "stdout",
     "output_type": "stream",
     "text": [
      "Welcome to Hangman!\n",
      "_ _ _ _ _ _ \n"
     ]
    },
    {
     "name": "stdin",
     "output_type": "stream",
     "text": [
      "Guess a letter:  A\n"
     ]
    },
    {
     "name": "stdout",
     "output_type": "stream",
     "text": [
      "Nice guess!\n",
      "_ a _ a _ a \n"
     ]
    },
    {
     "name": "stdin",
     "output_type": "stream",
     "text": [
      "Guess a letter:  b\n"
     ]
    },
    {
     "name": "stdout",
     "output_type": "stream",
     "text": [
      "Nice guess!\n",
      "b a _ a _ a \n"
     ]
    },
    {
     "name": "stdin",
     "output_type": "stream",
     "text": [
      "Guess a letter:  a\n"
     ]
    },
    {
     "name": "stdout",
     "output_type": "stream",
     "text": [
      "You already tried that letter.\n"
     ]
    },
    {
     "name": "stdin",
     "output_type": "stream",
     "text": [
      "Guess a letter:  p\n"
     ]
    },
    {
     "name": "stdout",
     "output_type": "stream",
     "text": [
      "Wrong guess. Tries left: 5\n",
      "b a _ a _ a \n"
     ]
    },
    {
     "name": "stdin",
     "output_type": "stream",
     "text": [
      "Guess a letter:  w\n"
     ]
    },
    {
     "name": "stdout",
     "output_type": "stream",
     "text": [
      "Wrong guess. Tries left: 4\n",
      "b a _ a _ a \n"
     ]
    },
    {
     "name": "stdin",
     "output_type": "stream",
     "text": [
      "Guess a letter:  c\n"
     ]
    },
    {
     "name": "stdout",
     "output_type": "stream",
     "text": [
      "Wrong guess. Tries left: 3\n",
      "b a _ a _ a \n"
     ]
    },
    {
     "name": "stdin",
     "output_type": "stream",
     "text": [
      "Guess a letter:  d\n"
     ]
    },
    {
     "name": "stdout",
     "output_type": "stream",
     "text": [
      "Wrong guess. Tries left: 2\n",
      "b a _ a _ a \n"
     ]
    },
    {
     "name": "stdin",
     "output_type": "stream",
     "text": [
      "Guess a letter:  f\n"
     ]
    },
    {
     "name": "stdout",
     "output_type": "stream",
     "text": [
      "Wrong guess. Tries left: 1\n",
      "b a _ a _ a \n"
     ]
    },
    {
     "name": "stdin",
     "output_type": "stream",
     "text": [
      "Guess a letter:  g\n"
     ]
    },
    {
     "name": "stdout",
     "output_type": "stream",
     "text": [
      "Wrong guess. Tries left: 0\n",
      "b a _ a _ a \n",
      "You lost! The word was: banana\n"
     ]
    }
   ],
   "source": [
    "import random\n",
    "\n",
    "# some words to choose from\n",
    "word_list = [\"apple\", \"banana\", \"grape\", \"orange\", \"peach\"]\n",
    "\n",
    "# pick one word\n",
    "word = random.choice(word_list)\n",
    "guessed = []\n",
    "tries = 6\n",
    "\n",
    "print(\"Welcome to Hangman!\")\n",
    "print(\"_ \" * len(word))\n",
    "\n",
    "while tries > 0:\n",
    "    guess = input(\"Guess a letter: \").lower()\n",
    "\n",
    "    # check if input is valid\n",
    "    if len(guess) != 1 or not guess.isalpha():\n",
    "        print(\"Please enter a single letter only.\")\n",
    "        continue\n",
    "\n",
    "    if guess in guessed:\n",
    "        print(\"You already tried that letter.\")\n",
    "        continue\n",
    "\n",
    "    guessed.append(guess)\n",
    "\n",
    "    if guess in word:\n",
    "        print(\"Nice guess!\")\n",
    "    else:\n",
    "        tries -= 1\n",
    "        print(\"Wrong guess. Tries left:\", tries)\n",
    "\n",
    "    # show word progress\n",
    "    display = \"\"\n",
    "    for letter in word:\n",
    "        if letter in guessed:\n",
    "            display += letter + \" \"\n",
    "        else:\n",
    "            display += \"_ \"\n",
    "    print(display)\n",
    "\n",
    "    # check win\n",
    "    if all(letter in guessed for letter in word):\n",
    "        print(\"You win! The word was:\", word)\n",
    "        break\n",
    "else:\n",
    "    print(\"You lost! The word was:\", word)\n"
   ]
  }
 ],
 "metadata": {
  "kernelspec": {
   "display_name": "Python [conda env:base] *",
   "language": "python",
   "name": "conda-base-py"
  },
  "language_info": {
   "codemirror_mode": {
    "name": "ipython",
    "version": 3
   },
   "file_extension": ".py",
   "mimetype": "text/x-python",
   "name": "python",
   "nbconvert_exporter": "python",
   "pygments_lexer": "ipython3",
   "version": "3.12.4"
  }
 },
 "nbformat": 4,
 "nbformat_minor": 5
}
